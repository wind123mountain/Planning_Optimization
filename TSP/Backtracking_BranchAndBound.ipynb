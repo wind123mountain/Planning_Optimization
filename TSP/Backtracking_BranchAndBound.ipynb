{
 "cells": [
  {
   "cell_type": "code",
   "execution_count": 551,
   "metadata": {},
   "outputs": [],
   "source": [
    "import numpy as np\n",
    "import time"
   ]
  },
  {
   "cell_type": "code",
   "execution_count": 552,
   "metadata": {},
   "outputs": [],
   "source": [
    "# f = open('8nodes(5)', 'w')\n",
    "# f.write('9\\n')\n",
    "# f.write('0 0\\n')\n",
    "\n",
    "# for i in range(8):\n",
    "#     x = np.random.randint(1, 17)\n",
    "#     y = np.random.randint(1, 17)\n",
    "#     f.write('{} {}\\n'.format(x, y))\n",
    "\n",
    "# f.close()"
   ]
  },
  {
   "cell_type": "code",
   "execution_count": 553,
   "metadata": {},
   "outputs": [],
   "source": [
    "def load_data(path = \"8nodes(5)\"):\n",
    "    with open(path, 'r') as f:\n",
    "        inputData = f.readlines()\n",
    "    \n",
    "    N = int(inputData[0].strip())\n",
    "    node_list=[]\n",
    "    for node in inputData[1:]:\n",
    "        #del '\\n' \n",
    "        node = node.strip()\n",
    "        #split by ' '\n",
    "        node = node.split(' ')\n",
    "        node_list.append((int(node[0]), int(node[1])))\n",
    "\n",
    "    return node_list, N\n",
    "\n",
    "node_list, num_nodes = load_data()"
   ]
  },
  {
   "cell_type": "code",
   "execution_count": 554,
   "metadata": {},
   "outputs": [],
   "source": [
    "def DistanceMatrix(cities, n):\n",
    "    dis_matrix = np.zeros([n,n])\n",
    "    min_dis = np.full((n, 2), np.inf)\n",
    "    adv0 = []\n",
    "    for i in range(n):\n",
    "        for j in range(i+1, n):\n",
    "            a = np.array(cities[i])\n",
    "            b = np.array(cities[j])\n",
    "            c = a - b\n",
    "            dis_matrix[i, j] = np.sqrt(np.sum(c*c))\n",
    "            if dis_matrix[i, j] < min_dis[i, 1]:\n",
    "              min_dis[i, 0] = j\n",
    "              min_dis[i, 1] = dis_matrix[i, j]\n",
    "            dis_matrix[j, i] = dis_matrix[i, j]\n",
    "            if dis_matrix[j, i] < min_dis[j, 1] and i != 0:\n",
    "              min_dis[j, 0] = i\n",
    "              min_dis[j, 1] = dis_matrix[i, j]\n",
    "            if i == 0: adv0.append((dis_matrix[i, j], j))\n",
    "    \n",
    "    adv0.sort(key=lambda tup: tup[0], reverse = False)\n",
    "\n",
    "    return np.around(dis_matrix), np.around(min_dis), adv0\n",
    "\n",
    "dis_matrix, min_dis, adv0 = DistanceMatrix(node_list, num_nodes)"
   ]
  },
  {
   "cell_type": "code",
   "execution_count": 555,
   "metadata": {},
   "outputs": [
    {
     "data": {
      "text/plain": [
       "<matplotlib.collections.PathCollection at 0x13cf519ab50>"
      ]
     },
     "execution_count": 555,
     "metadata": {},
     "output_type": "execute_result"
    },
    {
     "data": {
      "image/png": "[encoded data removed]",
      "text/plain": [
       "<Figure size 432x288 with 1 Axes>"
      ]
     },
     "metadata": {
      "needs_background": "light"
     },
     "output_type": "display_data"
    }
   ],
   "source": [
    "import matplotlib.pyplot as plt\n",
    "\n",
    "points = np.array(node_list)\n",
    "\n",
    "plt.scatter(points[:, 0], points[:, 1])"
   ]
  },
  {
   "cell_type": "code",
   "execution_count": 200,
   "metadata": {},
   "outputs": [
    {
     "name": "stdout",
     "output_type": "stream",
     "text": [
      "53.0\n",
      "0.0588223934173584\n"
     ]
    }
   ],
   "source": [
    "#Branch and bound\n",
    "\n",
    "cmin = 1e9\n",
    "for i in dis_matrix.flatten():\n",
    "    if i != 0.0:\n",
    "        cmin = min(cmin, i)\n",
    "\n",
    "mark = [0 for i in range(100)]\n",
    "res = 1e9\n",
    "curr_dis = 0\n",
    "path = [0 for i in range(100)]\n",
    "\n",
    "def TRY(k):\n",
    "    global curr_dis\n",
    "    global res\n",
    "    \n",
    "    for i in range(1, num_nodes):\n",
    "        if mark[i] == 0:\n",
    "            mark[i] = 1\n",
    "            curr_dis = curr_dis + dis_matrix[path[k-1]][i]\n",
    "            path[k] = i\n",
    "\n",
    "            if curr_dis + cmin*(num_nodes-k) > res:\n",
    "                mark[i] = 0\n",
    "                curr_dis = curr_dis - dis_matrix[path[k-1]][i]\n",
    "                continue\n",
    "\n",
    "            if k + 1 == num_nodes:\n",
    "                res = min(res, curr_dis+dis_matrix[i][0])\n",
    "            else:\n",
    "                TRY(k+1)\n",
    "\n",
    "            mark[i] = 0\n",
    "            curr_dis = curr_dis - dis_matrix[path[k-1]][i]\n",
    "            \n",
    "s = time.time()\n",
    "TRY(1)\n",
    "e = time.time()\n",
    "print(res)\n",
    "print(e-s)"
   ]
  },
  {
   "cell_type": "code",
   "execution_count": 243,
   "metadata": {},
   "outputs": [
    {
     "name": "stdout",
     "output_type": "stream",
     "text": [
      "49.0\n",
      "0.04318523406982422\n"
     ]
    }
   ],
   "source": [
    "#Branch and bound\n",
    "\n",
    "cmin = 1e9\n",
    "for i in dis_matrix.flatten():\n",
    "    if i != 0.0:\n",
    "        cmin = min(cmin, i)\n",
    "\n",
    "mark = [0 for i in range(100)]\n",
    "path = [0 for i in range(100)]\n",
    "\n",
    "def TRY(k, res, curr_dis):\n",
    "    for i in range(1, num_nodes):\n",
    "        if mark[i] == 0:\n",
    "            mark[i] = 1\n",
    "            curr_dis = curr_dis + dis_matrix[path[k-1]][i]\n",
    "            path[k] = i\n",
    "\n",
    "            if curr_dis + cmin*(num_nodes-k) > res:\n",
    "                mark[i] = 0\n",
    "                curr_dis = curr_dis - dis_matrix[path[k-1]][i]\n",
    "                continue\n",
    "\n",
    "            if k + 1 == num_nodes:\n",
    "                res = min(res, curr_dis+dis_matrix[i][0])\n",
    "            else:\n",
    "                res = TRY(k+1, res, curr_dis)\n",
    "\n",
    "            mark[i] = 0\n",
    "            curr_dis = curr_dis - dis_matrix[path[k-1]][i]\n",
    "\n",
    "    return res\n",
    "            \n",
    "s = time.time()\n",
    "res = TRY(1, res=1e9, curr_dis=0)\n",
    "e = time.time()\n",
    "print(res)\n",
    "print(e-s)"
   ]
  }
 ],
 "metadata": {
  "interpreter": {
   "hash": "b0fdbd91fa1014f333c33329988a7a04d464deba86e034a82d46dbd46f2ee1d2"
  },
  "kernelspec": {
   "display_name": "Python 3.8.8 ('base')",
   "language": "python",
   "name": "python3"
  },
  "language_info": {
   "codemirror_mode": {
    "name": "ipython",
    "version": 3
   },
   "file_extension": ".py",
   "mimetype": "text/x-python",
   "name": "python",
   "nbconvert_exporter": "python",
   "pygments_lexer": "ipython3",
   "version": "3.8.8"
  },
  "orig_nbformat": 4
 },
 "nbformat": 4,
 "nbformat_minor": 2
}
