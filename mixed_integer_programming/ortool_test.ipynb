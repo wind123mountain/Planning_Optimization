{
 "cells": [
  {
   "cell_type": "code",
   "execution_count": 1,
   "metadata": {},
   "outputs": [
    {
     "name": "stdout",
     "output_type": "stream",
     "text": [
      "Number of variables = 2\n",
      "Number of constraints = 2\n",
      "Solution:\n",
      "Objective value = 25.0\n",
      "x = 0.0\n",
      "y = 2.5\n",
      "\n",
      "Advanced usage:\n",
      "Problem solved in 8.000000 milliseconds\n",
      "Problem solved in 0 iterations\n"
     ]
    }
   ],
   "source": [
    "#!/usr/bin/env python3\n",
    "# Copyright 2010-2021 Google LLC\n",
    "# Licensed under the Apache License, Version 2.0 (the \"License\");\n",
    "# you may not use this file except in compliance with the License.\n",
    "# You may obtain a copy of the License at\n",
    "#\n",
    "#     http://www.apache.org/licenses/LICENSE-2.0\n",
    "#\n",
    "# Unless required by applicable law or agreed to in writing, software\n",
    "# distributed under the License is distributed on an \"AS IS\" BASIS,\n",
    "# WITHOUT WARRANTIES OR CONDITIONS OF ANY KIND, either express or implied.\n",
    "# See the License for the specific language governing permissions and\n",
    "# limitations under the License.\n",
    "\"\"\"Minimal example to call the GLOP solver.\"\"\"\n",
    "# [START program]\n",
    "# [START import]\n",
    "from ortools.linear_solver import pywraplp\n",
    "# [END import]\n",
    "\n",
    "\n",
    "# [START solver]\n",
    "# Create the linear solver with the GLOP backend.\n",
    "solver = pywraplp.Solver.CreateSolver('GLOP')\n",
    "# [END solver]\n",
    "\n",
    "# [START variables]\n",
    "infinity = solver.infinity()\n",
    "# Create the variables x and y.\n",
    "x = solver.NumVar(0.0, infinity, 'x')\n",
    "y = solver.NumVar(0.0, infinity, 'y')\n",
    "\n",
    "print('Number of variables =', solver.NumVariables())\n",
    "# [END variables]\n",
    "\n",
    "# [START constraints]\n",
    "# x + 7 * y <= 17.5.\n",
    "solver.Add(x + 7 * y <= 17.5)\n",
    "\n",
    "# x <= 3.5.\n",
    "solver.Add(x <= 3.5)\n",
    "\n",
    "print('Number of constraints =', solver.NumConstraints())\n",
    "# [END constraints]\n",
    "\n",
    "# [START objective]\n",
    "# Maximize x + 10 * y.\n",
    "solver.Maximize(x + 10 * y)\n",
    "# [END objective]\n",
    "\n",
    "# [START solve]\n",
    "status = solver.Solve()\n",
    "# [END solve]\n",
    "\n",
    "# [START print_solution]\n",
    "if status == pywraplp.Solver.OPTIMAL:\n",
    "    print('Solution:')\n",
    "    print('Objective value =', solver.Objective().Value())\n",
    "    print('x =', x.solution_value())\n",
    "    print('y =', y.solution_value())\n",
    "else:\n",
    "    print('The problem does not have an optimal solution.')\n",
    "# [END print_solution]\n",
    "\n",
    "# [START advanced]\n",
    "print('\\nAdvanced usage:')\n",
    "print('Problem solved in %f milliseconds' % solver.wall_time())\n",
    "print('Problem solved in %d iterations' % solver.iterations())\n",
    "# [END advanced]\n",
    "\n"
   ]
  },
  {
   "cell_type": "code",
   "execution_count": 2,
   "metadata": {},
   "outputs": [
    {
     "name": "stdout",
     "output_type": "stream",
     "text": [
      "Number of variables = 2\n",
      "Number of constraints = 1\n",
      "Solution:\n",
      "Objective value = 4.0\n",
      "x = 1.0\n",
      "y = 1.0\n"
     ]
    }
   ],
   "source": [
    "from ortools.linear_solver import pywraplp\n",
    "from ortools.init import pywrapinit\n",
    "\n",
    "\n",
    "def main():\n",
    "    # Create the linear solver with the GLOP backend.\n",
    "    solver = pywraplp.Solver.CreateSolver('GLOP')\n",
    "\n",
    "    # Create the variables x and y.\n",
    "    x = solver.NumVar(0, 1, 'x')\n",
    "    y = solver.NumVar(0, 2, 'y')\n",
    "\n",
    "    print('Number of variables =', solver.NumVariables())\n",
    "\n",
    "    # Create a linear constraint, 0 <= x + y <= 2.\n",
    "    ct = solver.Constraint(0, 2, 'ct')\n",
    "    ct.SetCoefficient(x, 1)\n",
    "    ct.SetCoefficient(y, 1)\n",
    "\n",
    "    print('Number of constraints =', solver.NumConstraints())\n",
    "\n",
    "    # Create the objective function, 3 * x + y.\n",
    "    objective = solver.Objective()\n",
    "    objective.SetCoefficient(x, 3)\n",
    "    objective.SetCoefficient(y, 1)\n",
    "    objective.SetMaximization()\n",
    "\n",
    "    solver.Solve()\n",
    "\n",
    "    print('Solution:')\n",
    "    print('Objective value =', objective.Value())\n",
    "    print('x =', x.solution_value())\n",
    "    print('y =', y.solution_value())\n",
    "\n",
    "\n",
    "if __name__ == '__main__':\n",
    "    pywrapinit.CppBridge.InitLogging('basic_example.py')\n",
    "    cpp_flags = pywrapinit.CppFlags()\n",
    "    cpp_flags.logtostderr = True\n",
    "    cpp_flags.log_prefix = False\n",
    "    pywrapinit.CppBridge.SetFlags(cpp_flags)\n",
    "\n",
    "    main()"
   ]
  },
  {
   "cell_type": "code",
   "execution_count": 3,
   "metadata": {},
   "outputs": [
    {
     "name": "stdout",
     "output_type": "stream",
     "text": [
      "Number of variables = 2\n",
      "Number of constraints = 2\n",
      "Solution:\n",
      "Objective value = 9.5\n",
      "x1 = 8.5\n",
      "x2 = 1.0\n",
      "\n",
      "Advanced usage:\n",
      "Problem solved in 174.000000 milliseconds\n",
      "Problem solved in 3 iterations\n",
      "Problem solved in 1 branch-and-bound nodes\n"
     ]
    }
   ],
   "source": [
    "from ortools.linear_solver import pywraplp\n",
    "\n",
    "\n",
    "# Create the mip solver with the SCIP backend.\n",
    "solver = pywraplp.Solver.CreateSolver('SCIP')\n",
    "\n",
    "# infinity = solver.infinity()\n",
    "\n",
    "# x1 is R, x2 is Z\n",
    "x1 = solver.NumVar(0.0, 14, 'x1')\n",
    "x2 = solver.IntVar(0.0, 20, 'x2')\n",
    "\n",
    "print('Number of variables =', solver.NumVariables())\n",
    "\n",
    "solver.Add(x1 - 10*x2 <= 7)\n",
    "\n",
    "solver.Add(2*x1 + 3*x2 <= 20)\n",
    "\n",
    "print('Number of constraints =', solver.NumConstraints())\n",
    "\n",
    "solver.Maximize(x1 + x2)\n",
    "\n",
    "status = solver.Solve()\n",
    "\n",
    "if status == pywraplp.Solver.OPTIMAL:\n",
    "    print('Solution:')\n",
    "    print('Objective value =', solver.Objective().Value())\n",
    "    print('x1 =', x1.solution_value())\n",
    "    print('x2 =', x2.solution_value())\n",
    "else:\n",
    "    print('The problem does not have an optimal solution.')\n",
    "\n",
    "print('\\nAdvanced usage:')\n",
    "print('Problem solved in %f milliseconds' % solver.wall_time())\n",
    "print('Problem solved in %d iterations' % solver.iterations())\n",
    "print('Problem solved in %d branch-and-bound nodes' % solver.nodes())\n"
   ]
  },
  {
   "cell_type": "code",
   "execution_count": 19,
   "metadata": {},
   "outputs": [
    {
     "name": "stdout",
     "output_type": "stream",
     "text": [
      "Number of variables = 5\n",
      "Number of constraints = 3\n",
      "Solution:\n",
      "Objective value = 6.0\n",
      "x1 = 0.0\n",
      "x2 = 6.0\n",
      "x3 = 2.0\n",
      "\n",
      "Advanced usage:\n",
      "Problem solved in 11.000000 milliseconds\n",
      "Problem solved in 0 iterations\n",
      "Problem solved in 1 branch-and-bound nodes\n"
     ]
    }
   ],
   "source": [
    "from ortools.linear_solver import pywraplp\n",
    "\n",
    "\n",
    "# Create the mip solver with the SCIP backend.\n",
    "solver = pywraplp.Solver.CreateSolver('SCIP')\n",
    "\n",
    "infinity = solver.infinity()\n",
    "\n",
    "x1 = solver.IntVar(0.0, infinity, 'x1')\n",
    "x2 = solver.IntVar(0.0, infinity, 'x2')\n",
    "x3 = solver.IntVar(0.0, infinity, 'x3')\n",
    "x4 = solver.IntVar(0.0, infinity, 'x4')\n",
    "x5 = solver.IntVar(0.0, infinity, 'x5')\n",
    "\n",
    "print('Number of variables =', solver.NumVariables())\n",
    "\n",
    "t = 0\n",
    "\n",
    "t += 2*x1 + x2 + x3\n",
    "\n",
    "solver.Add(t == 8)\n",
    "\n",
    "solver.Add(3*x1 + 4*x2 + x4 == 24)\n",
    "\n",
    "solver.Add(x1 - x2 + x5 == 2)\n",
    "\n",
    "# solver.Add(x1 + x3 >= 7)\n",
    "\n",
    "print('Number of constraints =', solver.NumConstraints())\n",
    "\n",
    "solver.Maximize(x1 + x2)\n",
    "\n",
    "status = solver.Solve()\n",
    "\n",
    "if status == pywraplp.Solver.OPTIMAL:\n",
    "    print('Solution:')\n",
    "    print('Objective value =', solver.Objective().Value())\n",
    "    print('x1 =', x1.solution_value())\n",
    "    print('x2 =', x2.solution_value())\n",
    "    print('x3 =', x3.solution_value())\n",
    "else:\n",
    "    print('The problem does not have an optimal solution.')\n",
    "\n",
    "print('\\nAdvanced usage:')\n",
    "print('Problem solved in %f milliseconds' % solver.wall_time())\n",
    "print('Problem solved in %d iterations' % solver.iterations())\n",
    "print('Problem solved in %d branch-and-bound nodes' % solver.nodes())\n"
   ]
  },
  {
   "cell_type": "code",
   "execution_count": 20,
   "metadata": {},
   "outputs": [
    {
     "data": {
      "text/plain": [
       "<ortools.linear_solver.pywraplp.Constraint; proxy of <Swig Object of type 'operations_research::MPConstraint *' at 0x0000020F156DB8A0> >"
      ]
     },
     "execution_count": 20,
     "metadata": {},
     "output_type": "execute_result"
    }
   ],
   "source": [
    "solver.Add(x1 + x3 >= 7)"
   ]
  },
  {
   "cell_type": "code",
   "execution_count": 21,
   "metadata": {},
   "outputs": [
    {
     "data": {
      "text/plain": [
       "1.0"
      ]
     },
     "execution_count": 21,
     "metadata": {},
     "output_type": "execute_result"
    }
   ],
   "source": [
    "solver.Solve()\n",
    "solver.Objective().Value()"
   ]
  },
  {
   "cell_type": "code",
   "execution_count": 23,
   "metadata": {},
   "outputs": [
    {
     "name": "stdout",
     "output_type": "stream",
     "text": [
      "Problem solved in 27601.000000 milliseconds\n"
     ]
    }
   ],
   "source": [
    "print('Problem solved in %f milliseconds' % solver.wall_time())"
   ]
  }
 ],
 "metadata": {
  "interpreter": {
   "hash": "b0fdbd91fa1014f333c33329988a7a04d464deba86e034a82d46dbd46f2ee1d2"
  },
  "kernelspec": {
   "display_name": "Python 3.8.8 ('base')",
   "language": "python",
   "name": "python3"
  },
  "language_info": {
   "codemirror_mode": {
    "name": "ipython",
    "version": 3
   },
   "file_extension": ".py",
   "mimetype": "text/x-python",
   "name": "python",
   "nbconvert_exporter": "python",
   "pygments_lexer": "ipython3",
   "version": "3.8.8"
  },
  "orig_nbformat": 4
 },
 "nbformat": 4,
 "nbformat_minor": 2
}
