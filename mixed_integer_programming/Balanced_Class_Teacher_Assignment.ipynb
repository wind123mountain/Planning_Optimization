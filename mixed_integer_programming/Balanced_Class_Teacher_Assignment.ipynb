{
 "cells": [
  {
   "cell_type": "code",
   "execution_count": 1,
   "metadata": {},
   "outputs": [],
   "source": [
    "from ortools.linear_solver import pywraplp\n"
   ]
  },
  {
   "cell_type": "code",
   "execution_count": 2,
   "metadata": {},
   "outputs": [],
   "source": [
    "N = 13\n",
    "M = 3\n",
    "X = []\n",
    "tc_inp = [[0, 2, 3, 4, 8, 10], [0, 1, 3, 5, 6, 7, 8], [1, 2, 3, 7, 9, 11, 12]]\n",
    "tc = [[0 for i in range(M)] for j in range(N)]\n",
    "for i in range(M):\n",
    "    for item in tc_inp[i]:\n",
    "        tc[item][i] = 1\n",
    "\n",
    "f_inp = '0 2,0 4,0 8,1 4,1 10,3 7,3 9,5 11,5 12,6 8,6 12'\n",
    "f = [[0 for i in range(N)] for j in range(N)]\n",
    "for i in f_inp.split(','):\n",
    "    i_1, i_2 = i.split()\n",
    "    f[int(i_1)][int(i_2)] = 1\n",
    "    f[int(i_2)][int(i_1)] = 1\n",
    "\n",
    "c = [3, 3, 4, 3, 4, 3, 3, 3, 4, 3, 3, 4, 4]"
   ]
  },
  {
   "cell_type": "code",
   "execution_count": 3,
   "metadata": {},
   "outputs": [
    {
     "name": "stdout",
     "output_type": "stream",
     "text": [
      "Number of variables = 40\n",
      "Number of constraints = 598\n",
      "Solution:\n",
      "Objective value = 14.999999999999998\n",
      "[3, 4, 8, 10]\n",
      "[0, 1, 5, 6, 7]\n",
      "[2, 9, 11, 12]\n",
      "\n",
      "Advanced usage:\n",
      "Problem solved in 39.000000 milliseconds\n",
      "Problem solved in 0 iterations\n",
      "Problem solved in 1 branch-and-bound nodes\n"
     ]
    }
   ],
   "source": [
    "# Create the mip solver with the SCIP backend.\n",
    "solver = pywraplp.Solver.CreateSolver('SCIP')\n",
    "\n",
    "infinity = solver.infinity()\n",
    "\n",
    "for i in range(N):\n",
    "    X_i = []\n",
    "    for j in range(M):\n",
    "        x = solver.IntVar(0, 1, 'x({},{})'.format(i, j))\n",
    "        X_i.append(x)\n",
    "    X.append(X_i)\n",
    "\n",
    "y = solver.IntVar(0, infinity, 'y')\n",
    "\n",
    "for i in range(N):\n",
    "    s = 0\n",
    "    for j in range(M):\n",
    "        solver.Add(tc[i][j] - X[i][j] >= 0)\n",
    "        t = 0\n",
    "        for i_1 in range(N):\n",
    "            solver.Add(f[i][i_1]*(X[i][j] + X[i_1][j]) <= 1)\n",
    "            t += X[i_1][j]*c[i_1]\n",
    "\n",
    "        solver.Add(t - y <= 0)\n",
    "\n",
    "        s += X[i][j]\n",
    "\n",
    "    solver.Add(s == 1)\n",
    "\n",
    "\n",
    "print('Number of variables =', solver.NumVariables())\n",
    "\n",
    "print('Number of constraints =', solver.NumConstraints())\n",
    "\n",
    "solver.Minimize(y)\n",
    "\n",
    "status = solver.Solve()\n",
    "\n",
    "if status == pywraplp.Solver.OPTIMAL:\n",
    "    print('Solution:')\n",
    "    print('Objective value =', solver.Objective().Value())\n",
    "    for j in range(M):\n",
    "        res_k = []\n",
    "        for i in range(N):\n",
    "            if X[i][j].solution_value() == 1:\n",
    "                res_k.append(i)\n",
    "        print(res_k)\n",
    "\n",
    "\n",
    "else:\n",
    "    print('The problem does not have an optimal solution.')\n",
    "\n",
    "print('\\nAdvanced usage:')\n",
    "print('Problem solved in %f milliseconds' % solver.wall_time())\n",
    "print('Problem solved in %d iterations' % solver.iterations())\n",
    "print('Problem solved in %d branch-and-bound nodes' % solver.nodes())\n"
   ]
  }
 ],
 "metadata": {
  "interpreter": {
   "hash": "b0fdbd91fa1014f333c33329988a7a04d464deba86e034a82d46dbd46f2ee1d2"
  },
  "kernelspec": {
   "display_name": "Python 3.8.8 ('base')",
   "language": "python",
   "name": "python3"
  },
  "language_info": {
   "codemirror_mode": {
    "name": "ipython",
    "version": 3
   },
   "file_extension": ".py",
   "mimetype": "text/x-python",
   "name": "python",
   "nbconvert_exporter": "python",
   "pygments_lexer": "ipython3",
   "version": "3.8.8"
  },
  "orig_nbformat": 4
 },
 "nbformat": 4,
 "nbformat_minor": 2
}
